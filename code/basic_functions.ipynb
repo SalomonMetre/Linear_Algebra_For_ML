{
 "cells": [
  {
   "cell_type": "code",
   "execution_count": 2,
   "metadata": {},
   "outputs": [],
   "source": [
    "import numpy as np"
   ]
  },
  {
   "cell_type": "code",
   "execution_count": 3,
   "metadata": {},
   "outputs": [
    {
     "name": "stdout",
     "output_type": "stream",
     "text": [
      "[[1.75502868e-316 0.00000000e+000 8.10267659e-322             nan\n",
      "  2.37923482e+233]\n",
      " [3.81888406e+077 1.48773043e+195 7.30298161e-312 2.35967956e-311\n",
      "  9.57614238e+115]\n",
      " [5.37859982e+228 2.17603419e+243 1.98275420e-313 1.43623515e+161\n",
      "  9.21759543e-314]\n",
      " [7.48323561e-206 1.50652414e+161 9.81324182e+242 3.68752608e+059\n",
      "  7.54792497e+168]\n",
      " [3.46417803e-263 4.61704588e-297 8.46929451e-278 1.70601619e+087\n",
      "  3.84567980e-315]]\n"
     ]
    }
   ],
   "source": [
    "empty_array=np.empty([5,5])\n",
    "print(empty_array)"
   ]
  },
  {
   "cell_type": "code",
   "execution_count": 4,
   "metadata": {},
   "outputs": [
    {
     "name": "stdout",
     "output_type": "stream",
     "text": [
      "[[0. 0. 0. 0.]\n",
      " [0. 0. 0. 0.]\n",
      " [0. 0. 0. 0.]]\n"
     ]
    }
   ],
   "source": [
    "zeroes_array=np.zeros([3,4])\n",
    "print(zeroes_array)"
   ]
  },
  {
   "cell_type": "code",
   "execution_count": 5,
   "metadata": {},
   "outputs": [
    {
     "name": "stdout",
     "output_type": "stream",
     "text": [
      "[[1.]\n",
      " [1.]\n",
      " [1.]]\n"
     ]
    }
   ],
   "source": [
    "ones_array=np.ones([3,1])\n",
    "print(ones_array)"
   ]
  },
  {
   "cell_type": "code",
   "execution_count": 6,
   "metadata": {},
   "outputs": [
    {
     "data": {
      "text/plain": [
       "array([[1., 0., 0.],\n",
       "       [0., 1., 0.],\n",
       "       [0., 0., 1.]])"
      ]
     },
     "execution_count": 6,
     "metadata": {},
     "output_type": "execute_result"
    }
   ],
   "source": [
    "id_array=np.identity(3)\n",
    "id_array"
   ]
  }
 ],
 "metadata": {
  "kernelspec": {
   "display_name": "NumpyArrays",
   "language": "python",
   "name": "python3"
  },
  "language_info": {
   "codemirror_mode": {
    "name": "ipython",
    "version": 3
   },
   "file_extension": ".py",
   "mimetype": "text/x-python",
   "name": "python",
   "nbconvert_exporter": "python",
   "pygments_lexer": "ipython3",
   "version": "3.9.16"
  },
  "orig_nbformat": 4
 },
 "nbformat": 4,
 "nbformat_minor": 2
}
